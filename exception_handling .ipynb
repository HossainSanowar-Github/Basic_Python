{
 "cells": [
  {
   "cell_type": "markdown",
   "metadata": {},
   "source": [
    "# Exception Handling\n",
    "* Try  exception\n",
    "* else\n",
    "* finally"
   ]
  },
  {
   "cell_type": "code",
   "execution_count": 18,
   "metadata": {},
   "outputs": [
    {
     "ename": "ZeroDivisionError",
     "evalue": "division by zero",
     "output_type": "error",
     "traceback": [
      "\u001b[0;31m---------------------------------------------------------------------------\u001b[0m",
      "\u001b[0;31mZeroDivisionError\u001b[0m                         Traceback (most recent call last)",
      "\u001b[0;32m/var/folders/70/xyz7khq54gx8qklx52wtt6tw0000gn/T/ipykernel_4909/3833962592.py\u001b[0m in \u001b[0;36m<module>\u001b[0;34m\u001b[0m\n\u001b[1;32m      1\u001b[0m \u001b[0ma\u001b[0m\u001b[0;34m=\u001b[0m\u001b[0;36m10\u001b[0m\u001b[0;34m\u001b[0m\u001b[0;34m\u001b[0m\u001b[0m\n\u001b[0;32m----> 2\u001b[0;31m \u001b[0mb\u001b[0m\u001b[0;34m=\u001b[0m\u001b[0ma\u001b[0m\u001b[0;34m/\u001b[0m\u001b[0;36m0\u001b[0m\u001b[0;34m\u001b[0m\u001b[0;34m\u001b[0m\u001b[0m\n\u001b[0m\u001b[1;32m      3\u001b[0m \u001b[0mprint\u001b[0m\u001b[0;34m(\u001b[0m\u001b[0;34mf'the out put: {b}'\u001b[0m\u001b[0;34m)\u001b[0m\u001b[0;34m\u001b[0m\u001b[0;34m\u001b[0m\u001b[0m\n",
      "\u001b[0;31mZeroDivisionError\u001b[0m: division by zero"
     ]
    }
   ],
   "source": [
    "    \n",
    "    a=10\n",
    "    b=a/0\n",
    "    print(f'the out put: {b}')\n"
   ]
  },
  {
   "cell_type": "code",
   "execution_count": 21,
   "metadata": {},
   "outputs": [
    {
     "name": "stdout",
     "output_type": "stream",
     "text": [
      "error found: division by zero\n"
     ]
    }
   ],
   "source": [
    "try:\n",
    "    a=10\n",
    "    b=a/0\n",
    "    print(f'result of division: {b}')\n",
    "except ZeroDivisionError as e:\n",
    "    print(f'error found: {e}')"
   ]
  },
  {
   "cell_type": "code",
   "execution_count": 23,
   "metadata": {},
   "outputs": [
    {
     "name": "stdout",
     "output_type": "stream",
     "text": [
      "10\n",
      "0\n",
      "error found: division by zero\n",
      "out of the loop\n"
     ]
    }
   ],
   "source": [
    "try :\n",
    "    a = int(input())\n",
    "    b = int(input())\n",
    "    c=a/b\n",
    "    print(f'result of c: {c}')\n",
    "except Exception as e :\n",
    "    print(f'error found: {e}')\n",
    "    \n",
    "print(\"out of the loop\")"
   ]
  },
  {
   "cell_type": "markdown",
   "metadata": {},
   "source": [
    "# File Error"
   ]
  },
  {
   "cell_type": "code",
   "execution_count": 24,
   "metadata": {},
   "outputs": [
    {
     "ename": "UnsupportedOperation",
     "evalue": "not writable",
     "output_type": "error",
     "traceback": [
      "\u001b[0;31m---------------------------------------------------------------------------\u001b[0m",
      "\u001b[0;31mUnsupportedOperation\u001b[0m                      Traceback (most recent call last)",
      "\u001b[0;32m/var/folders/70/xyz7khq54gx8qklx52wtt6tw0000gn/T/ipykernel_4909/2643962586.py\u001b[0m in \u001b[0;36m<module>\u001b[0;34m\u001b[0m\n\u001b[1;32m      1\u001b[0m \u001b[0mf\u001b[0m \u001b[0;34m=\u001b[0m \u001b[0mopen\u001b[0m\u001b[0;34m(\u001b[0m\u001b[0;34m\"test.txt\"\u001b[0m \u001b[0;34m,\u001b[0m \u001b[0;34m\"r\"\u001b[0m\u001b[0;34m)\u001b[0m\u001b[0;34m\u001b[0m\u001b[0;34m\u001b[0m\u001b[0m\n\u001b[0;32m----> 2\u001b[0;31m \u001b[0mf\u001b[0m\u001b[0;34m.\u001b[0m\u001b[0mwrite\u001b[0m\u001b[0;34m(\u001b[0m\u001b[0;34m\"fsadffsdff fsaf dsaf\"\u001b[0m\u001b[0;34m)\u001b[0m\u001b[0;34m\u001b[0m\u001b[0;34m\u001b[0m\u001b[0m\n\u001b[0m\u001b[1;32m      3\u001b[0m \u001b[0mprint\u001b[0m\u001b[0;34m(\u001b[0m\u001b[0;34m\"this is my code \"\u001b[0m\u001b[0;34m)\u001b[0m\u001b[0;34m\u001b[0m\u001b[0;34m\u001b[0m\u001b[0m\n",
      "\u001b[0;31mUnsupportedOperation\u001b[0m: not writable"
     ]
    }
   ],
   "source": [
    "f = open(\"test.txt\" , \"r\")\n",
    "f.write(\"fsadffsdff fsaf dsaf\")\n",
    "print(\"this is my code \")"
   ]
  },
  {
   "cell_type": "code",
   "execution_count": 26,
   "metadata": {},
   "outputs": [
    {
     "name": "stdout",
     "output_type": "stream",
     "text": [
      "error is: invalid mode: ' r'\n",
      "out of the loop\n"
     ]
    }
   ],
   "source": [
    "try:\n",
    "    f = open('test.txt' , \" r\")\n",
    "    f.write(\"fdsfds\")\n",
    "except Exception as e:\n",
    "    print(f'error is: {e}')\n",
    "    \n",
    "print(f'out of the loop')\n",
    "\n"
   ]
  },
  {
   "cell_type": "markdown",
   "metadata": {},
   "source": [
    "# List error with nested try block"
   ]
  },
  {
   "cell_type": "code",
   "execution_count": 32,
   "metadata": {},
   "outputs": [
    {
     "data": {
      "text/plain": [
       "[0, 1, 2, 3, 4, 5, 6, 7]"
      ]
     },
     "execution_count": 32,
     "metadata": {},
     "output_type": "execute_result"
    }
   ],
   "source": [
    "l = [4,5,6,7,8,8,9,0]\n",
    "l1=[]\n",
    "try : \n",
    "    for i in range(len(l)) : \n",
    "        l1.append(i)\n",
    "except:\n",
    "    print(\"this is my code\")\n",
    "l1"
   ]
  },
  {
   "cell_type": "code",
   "execution_count": 35,
   "metadata": {},
   "outputs": [
    {
     "name": "stdout",
     "output_type": "stream",
     "text": [
      "4\n",
      "5\n",
      "6\n",
      "7\n",
      "8\n",
      "8\n",
      "9\n",
      "0\n",
      "error is: list index out of range\n",
      "out of loop\n"
     ]
    }
   ],
   "source": [
    "l = [4,5,6,7,8,8,9,0]\n",
    "try: \n",
    "    for i in range(len(l)+1) : \n",
    "        print(l[i])\n",
    "except Exception as e :\n",
    "    print(f'error is: {e}')\n",
    "print(\"out of loop\")"
   ]
  },
  {
   "cell_type": "code",
   "execution_count": 39,
   "metadata": {},
   "outputs": [
    {
     "name": "stdout",
     "output_type": "stream",
     "text": [
      "error of file\n",
      "no error for loop: 1\n",
      "no error for loop: 2\n",
      "no error for loop: 3\n",
      "no error for loop: 4\n",
      "no error for loop: 5\n"
     ]
    }
   ],
   "source": [
    "#nested block\n",
    "try :\n",
    "    f = open(\"test1\" ,'r')\n",
    "    f.write(\"this is my code with expceptoi handling\")\n",
    "    print(\"this is output of write function\")\n",
    "except : \n",
    "    print(f'error of file')\n",
    "try :\n",
    "    l = [1,2,3,4,5]\n",
    "    for i in l :\n",
    "        print(f'no error for loop: {i}')\n",
    "except:\n",
    "    print(f'error of for loop')"
   ]
  },
  {
   "cell_type": "code",
   "execution_count": 52,
   "metadata": {},
   "outputs": [
    {
     "name": "stdout",
     "output_type": "stream",
     "text": [
      "please enter integer value: 23.6\n",
      "error found: invalid literal for int() with base 10: '23.6'\n"
     ]
    }
   ],
   "source": [
    "#exception is super class; we don't know the name of error, then apply this error\n",
    "try :\n",
    "    d= {\"key1\" : \"sanowar\" , \"key2\" : [1,2,3,4,5] , \"key3\" : (4,5,6,7,78)}\n",
    "    d[\"key4\"] = int(input('please enter integer value: '))\n",
    "except Exception as sanow :\n",
    "    print(f'error found: {sanow}')\n",
    "    "
   ]
  },
  {
   "cell_type": "code",
   "execution_count": 51,
   "metadata": {},
   "outputs": [
    {
     "name": "stdout",
     "output_type": "stream",
     "text": [
      "please enter number: 23.6\n",
      "invalid literal for int() with base 10: '23.6'\n"
     ]
    }
   ],
   "source": [
    "#Value error\n",
    "try :\n",
    "    d= {\"key1\" : \"sudh\" , \"key2\" : [1,2,3,4,5] , \"key3\" : (4,5,6,7,78)}\n",
    "    d[\"key4\"] = int(input('please enter number: '))\n",
    "except ValueError as e :\n",
    "    print(e)"
   ]
  },
  {
   "cell_type": "code",
   "execution_count": 54,
   "metadata": {},
   "outputs": [
    {
     "name": "stdout",
     "output_type": "stream",
     "text": [
      "dhdh\n",
      "value error: invalid literal for int() with base 10: 'dhdh'\n"
     ]
    }
   ],
   "source": [
    "# multiple error define at a time\n",
    "try :\n",
    "    d= {\"key1\" : \"sudh\" , \"key2\" : [1,2,3,4,5] , \"key3\" : (4,5,6,7,78)}\n",
    "    d[\"key4\"] = int(input())\n",
    "    f = open(\"test2\" , \"r\")\n",
    "\n",
    "except ValueError as v :\n",
    "    print(f'value error: {v}')\n",
    "except FileNotFoundError as e :\n",
    "    print(f'file not found error: {e}')\n",
    "except Exception as ee :\n",
    "    print(f'exception error: {ee}')"
   ]
  },
  {
   "cell_type": "code",
   "execution_count": 57,
   "metadata": {},
   "outputs": [
    {
     "name": "stdout",
     "output_type": "stream",
     "text": [
      "23\n",
      "error found: [Errno 2] No such file or directory: 'test2'\n"
     ]
    }
   ],
   "source": [
    "#all above error is solved by exception\n",
    "try :\n",
    "    d= {\"key1\" : \"sudh\" , \"key2\" : [1,2,3,4,5] , \"key3\" : (4,5,6,7,78)}\n",
    "    d[\"key4\"] = int(input())\n",
    "    f = open(\"test2\" , \"r\")\n",
    "except Exception as e :\n",
    "    print(f'error found: {e}')"
   ]
  },
  {
   "cell_type": "code",
   "execution_count": 62,
   "metadata": {},
   "outputs": [
    {
     "name": "stdout",
     "output_type": "stream",
     "text": [
      "Else block success: when Try block will be executed succesfully\n"
     ]
    }
   ],
   "source": [
    "# apply super class and else loop\n",
    "#try block will be executed succesfully, then else block will execute\n",
    "try :\n",
    "    f = open(\"test.txt\" , \"w\")\n",
    "    f.write(\"this is my code in try \")\n",
    "except Exception as e :\n",
    "    print(f'error found: {e}') \n",
    "else : \n",
    "    print(f'Else block success: when Try block will be executed succesfully')\n",
    "    f.close()"
   ]
  },
  {
   "cell_type": "code",
   "execution_count": 66,
   "metadata": {},
   "outputs": [
    {
     "name": "stdout",
     "output_type": "stream",
     "text": [
      "error found: TextIOWrapper.write() takes exactly one argument (0 given)\n",
      "finally execute thie block\n"
     ]
    }
   ],
   "source": [
    "# Apply finally block\n",
    "try :\n",
    "    f = open(\"test43.txt\" , 'r')\n",
    "    f.write()\n",
    "except Exception as e : \n",
    "    print(f'error found: {e}')\n",
    "else:\n",
    "    print(\"this block execute once try block succesfully eectuion\")\n",
    "finally : \n",
    "    print(\"finally execute thie block\")"
   ]
  },
  {
   "cell_type": "code",
   "execution_count": 70,
   "metadata": {},
   "outputs": [
    {
     "name": "stdout",
     "output_type": "stream",
     "text": [
      "this block execute once try bloc succesfully eectuion\n",
      "finally 1\n",
      "error for second\n",
      "finally 2\n"
     ]
    }
   ],
   "source": [
    "# Apply finally block\n",
    "try :\n",
    "    f = open(\"test43.txt\" , 'w')\n",
    "    #f.write()\n",
    "except Exception as e : \n",
    "    print(f'error found: {e}')\n",
    "else:\n",
    "    print(\"this block execute once try bloc succesfully eectuion\")\n",
    "finally : \n",
    "    print(\"finally 1\")\n",
    "    try :  \n",
    "        f = open(\"dfsfssdf\" , 'r')\n",
    "    except : \n",
    "         print(\"error for second\")\n",
    "    finally:\n",
    "        print(\"finally 2\")"
   ]
  },
  {
   "cell_type": "code",
   "execution_count": 73,
   "metadata": {},
   "outputs": [
    {
     "name": "stdout",
     "output_type": "stream",
     "text": [
      "please integer value: 23.4\n",
      "error found: invalid literal for int() with base 10: '23.4'\n"
     ]
    }
   ],
   "source": [
    "#apply function\n",
    "def askint():\n",
    "    try :\n",
    "        a = int(input('please integer value: '))\n",
    "        return a \n",
    "    except Exception as e :\n",
    "        print(f'error found: {e}' )\n",
    "askint()"
   ]
  },
  {
   "cell_type": "code",
   "execution_count": 78,
   "metadata": {},
   "outputs": [
    {
     "name": "stdout",
     "output_type": "stream",
     "text": [
      "please enter the interger: 23.4\n",
      "Oh, NO??, please enter integer, invalid literal for int() with base 10: '23.4'\n",
      "please enter the interger: 21.4\n",
      "Oh, NO??, please enter integer, invalid literal for int() with base 10: '21.4'\n",
      "please enter the interger: 23\n"
     ]
    },
    {
     "data": {
      "text/plain": [
       "'Congratulations!!!'"
      ]
     },
     "execution_count": 78,
     "metadata": {},
     "output_type": "execute_result"
    }
   ],
   "source": [
    "#keep an asking enter an integer:\n",
    "def askint_fun():\n",
    "    while True:\n",
    "        try:\n",
    "            a=int(input(\"please enter the interger: \"))\n",
    "            if type(a)==int:\n",
    "                return \"Congratulations!!!\"\n",
    "        except Exception as e:\n",
    "            print(f'Oh, NO??, please enter integer, {e}')\n",
    "        \n",
    "askint_fun()\n"
   ]
  },
  {
   "cell_type": "code",
   "execution_count": 80,
   "metadata": {},
   "outputs": [
    {
     "name": "stdout",
     "output_type": "stream",
     "text": [
      "23.5\n",
      "enter the input again:  invalid literal for int() with base 10: '23.5'\n",
      "23\n"
     ]
    }
   ],
   "source": [
    "#another solution\n",
    "def integer():\n",
    "        while True:\n",
    "            \"\"\"Function asks for an integer unless provided otherwise\"\"\"\n",
    "            try:\n",
    "                x = int(input())\n",
    "                break\n",
    "            except ValueError as e:\n",
    "                print(\"enter the input again: \",e)\n",
    "        \n",
    "integer()"
   ]
  },
  {
   "cell_type": "code",
   "execution_count": 86,
   "metadata": {},
   "outputs": [
    {
     "name": "stdout",
     "output_type": "stream",
     "text": [
      "-1\n",
      "Sorry, your response must not be negative.\n",
      "-2\n",
      "Sorry, your response must not be negative.\n",
      "0.2\n",
      "Sorry, I didn't understand that.\n",
      "23\n"
     ]
    },
    {
     "data": {
      "text/plain": [
       "23"
      ]
     },
     "execution_count": 86,
     "metadata": {},
     "output_type": "execute_result"
    }
   ],
   "source": [
    "def getint_fun():\n",
    "    while True:\n",
    "        try:\n",
    "            value = int(input())\n",
    "        except ValueError:\n",
    "            print(\"Sorry, I didn't understand that.\")\n",
    "            continue\n",
    "\n",
    "        if value < 0:\n",
    "            print(\"Sorry, your response must not be negative.\")\n",
    "            continue\n",
    "        else:\n",
    "            break\n",
    "    return value\n",
    "\n",
    "getint_fun()"
   ]
  },
  {
   "cell_type": "code",
   "execution_count": 89,
   "metadata": {},
   "outputs": [
    {
     "name": "stdout",
     "output_type": "stream",
     "text": [
      "enter only number-2\n"
     ]
    }
   ],
   "source": [
    "def xyz():\n",
    "    while True:\n",
    "        try:\n",
    "            num = int(input(\"enter only number\"))\n",
    "            break\n",
    "        except ValueError:\n",
    "            print(\"Please input number only...\")  \n",
    "            continue\n",
    "xyz()"
   ]
  },
  {
   "cell_type": "code",
   "execution_count": null,
   "metadata": {},
   "outputs": [],
   "source": []
  }
 ],
 "metadata": {
  "kernelspec": {
   "display_name": "Python 3 (ipykernel)",
   "language": "python",
   "name": "python3"
  },
  "language_info": {
   "codemirror_mode": {
    "name": "ipython",
    "version": 3
   },
   "file_extension": ".py",
   "mimetype": "text/x-python",
   "name": "python",
   "nbconvert_exporter": "python",
   "pygments_lexer": "ipython3",
   "version": "3.9.7"
  }
 },
 "nbformat": 4,
 "nbformat_minor": 4
}
