{
 "cells": [
  {
   "cell_type": "markdown",
   "id": "fa91450e",
   "metadata": {},
   "source": [
    "# List Compression"
   ]
  },
  {
   "cell_type": "code",
   "execution_count": 1,
   "id": "97a26b40",
   "metadata": {},
   "outputs": [
    {
     "data": {
      "text/plain": [
       "[3, 4, 5, 6]"
      ]
     },
     "execution_count": 1,
     "metadata": {},
     "output_type": "execute_result"
    }
   ],
   "source": [
    "l=[1,2,3,4]\n",
    "[i+2 for i in l]#list compression"
   ]
  },
  {
   "cell_type": "code",
   "execution_count": 2,
   "id": "a3fc3105",
   "metadata": {},
   "outputs": [
    {
     "data": {
      "text/plain": [
       "[(1, 2), (4, 4), (9, 6)]"
      ]
     },
     "execution_count": 2,
     "metadata": {},
     "output_type": "execute_result"
    }
   ],
   "source": [
    "[(i**2,i+i) for i in l if i<4]"
   ]
  },
  {
   "cell_type": "markdown",
   "id": "cffd4d6d",
   "metadata": {},
   "source": [
    "# Dictionary Compression"
   ]
  },
  {
   "cell_type": "code",
   "execution_count": 3,
   "id": "6ddcd1c2",
   "metadata": {},
   "outputs": [
    {
     "data": {
      "text/plain": [
       "{1: 2, 2: 8, 3: 18}"
      ]
     },
     "execution_count": 3,
     "metadata": {},
     "output_type": "execute_result"
    }
   ],
   "source": [
    "d={1:1, 2:4,3:9}\n",
    "{key:val*2 for key,val in d.items()}   "
   ]
  },
  {
   "cell_type": "markdown",
   "id": "a553309b",
   "metadata": {},
   "source": [
    "# Tuple Compression"
   ]
  },
  {
   "cell_type": "code",
   "execution_count": 4,
   "id": "9cb1db75",
   "metadata": {},
   "outputs": [
    {
     "data": {
      "text/plain": [
       "(1, 2, 3, 4, 5)"
      ]
     },
     "execution_count": 4,
     "metadata": {},
     "output_type": "execute_result"
    }
   ],
   "source": [
    "t=(1,2,3,4,5)\n",
    "tuple(i for i in t)"
   ]
  },
  {
   "cell_type": "markdown",
   "id": "f4bd299d",
   "metadata": {},
   "source": [
    "# Function Compression"
   ]
  },
  {
   "cell_type": "code",
   "execution_count": 5,
   "id": "f0f2fef8",
   "metadata": {},
   "outputs": [],
   "source": [
    "a=lambda a:[i+2 for i in a]"
   ]
  },
  {
   "cell_type": "code",
   "execution_count": 6,
   "id": "9cc64ead",
   "metadata": {},
   "outputs": [
    {
     "data": {
      "text/plain": [
       "[3, 4, 5, 6]"
      ]
     },
     "execution_count": 6,
     "metadata": {},
     "output_type": "execute_result"
    }
   ],
   "source": [
    "a(l)"
   ]
  },
  {
   "cell_type": "code",
   "execution_count": 7,
   "id": "320e359f",
   "metadata": {},
   "outputs": [],
   "source": [
    "a =lambda x:[(i*i, i+1) for i in x if i%2==0]"
   ]
  },
  {
   "cell_type": "code",
   "execution_count": 8,
   "id": "f6b26bac",
   "metadata": {},
   "outputs": [
    {
     "data": {
      "text/plain": [
       "[(4, 3), (16, 5)]"
      ]
     },
     "execution_count": 8,
     "metadata": {},
     "output_type": "execute_result"
    }
   ],
   "source": [
    "a(l)"
   ]
  },
  {
   "cell_type": "code",
   "execution_count": 9,
   "id": "595c3b7e",
   "metadata": {},
   "outputs": [],
   "source": [
    "a =lambda x: [(i*i, i+1) for i in x if i>1 if i<4]"
   ]
  },
  {
   "cell_type": "code",
   "execution_count": 10,
   "id": "d29773f7",
   "metadata": {},
   "outputs": [
    {
     "data": {
      "text/plain": [
       "[(4, 3), (9, 4)]"
      ]
     },
     "execution_count": 10,
     "metadata": {},
     "output_type": "execute_result"
    }
   ],
   "source": [
    "a(l)"
   ]
  },
  {
   "cell_type": "code",
   "execution_count": null,
   "id": "8e1afcf4",
   "metadata": {},
   "outputs": [],
   "source": []
  }
 ],
 "metadata": {
  "kernelspec": {
   "display_name": "Python 3 (ipykernel)",
   "language": "python",
   "name": "python3"
  },
  "language_info": {
   "codemirror_mode": {
    "name": "ipython",
    "version": 3
   },
   "file_extension": ".py",
   "mimetype": "text/x-python",
   "name": "python",
   "nbconvert_exporter": "python",
   "pygments_lexer": "ipython3",
   "version": "3.9.7"
  }
 },
 "nbformat": 4,
 "nbformat_minor": 5
}
