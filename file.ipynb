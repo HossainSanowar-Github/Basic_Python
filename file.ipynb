{
 "cells": [
  {
   "cell_type": "markdown",
   "id": "018ba1e3",
   "metadata": {},
   "source": [
    "# File\n",
    "* Read Operation\n",
    "* Write Operation\n",
    "* open file -> write -> close\n",
    "* read()\n",
    "* seek()\n",
    "* tell()\n",
    "* readline()\n",
    "* f=open('google.txt')\n",
    "* f.read()\n",
    "* f.close()\n",
    "* f=open('google.txt','w')\n",
    "* end=\" \"\n",
    "* r+ mode: try to file in both read and write"
   ]
  },
  {
   "cell_type": "code",
   "execution_count": 1,
   "id": "638a8eb3",
   "metadata": {},
   "outputs": [
    {
     "name": "stdout",
     "output_type": "stream",
     "text": [
      "something in console\n"
     ]
    }
   ],
   "source": [
    "print('something in console')"
   ]
  },
  {
   "cell_type": "code",
   "execution_count": 3,
   "id": "2def7841",
   "metadata": {},
   "outputs": [
    {
     "data": {
      "text/plain": [
       "'/Users/mdsanowarhossain/Documents/python/Python_Basic'"
      ]
     },
     "execution_count": 3,
     "metadata": {},
     "output_type": "execute_result"
    }
   ],
   "source": [
    "pwd # present working directory"
   ]
  },
  {
   "cell_type": "code",
   "execution_count": 4,
   "id": "79c4f798",
   "metadata": {},
   "outputs": [
    {
     "data": {
      "text/plain": [
       "['In',\n",
       " 'Out',\n",
       " '_',\n",
       " '_3',\n",
       " '__',\n",
       " '___',\n",
       " '__builtin__',\n",
       " '__builtins__',\n",
       " '__doc__',\n",
       " '__loader__',\n",
       " '__name__',\n",
       " '__package__',\n",
       " '__spec__',\n",
       " '_dh',\n",
       " '_i',\n",
       " '_i1',\n",
       " '_i2',\n",
       " '_i3',\n",
       " '_i4',\n",
       " '_ih',\n",
       " '_ii',\n",
       " '_iii',\n",
       " '_oh',\n",
       " 'exit',\n",
       " 'f',\n",
       " 'get_ipython',\n",
       " 'quit']"
      ]
     },
     "execution_count": 4,
     "metadata": {},
     "output_type": "execute_result"
    }
   ],
   "source": [
    "dir()"
   ]
  },
  {
   "cell_type": "code",
   "execution_count": 9,
   "id": "a2bfac67",
   "metadata": {},
   "outputs": [
    {
     "name": "stdout",
     "output_type": "stream",
     "text": [
      "Basic_Operation.ipynb                Untitled.ipynb\r\n",
      "Basic_str_list.ipynb                 basic_function.ipynb\r\n",
      "Compression.ipynb                    break_continue_pass.ipynb\r\n",
      "Condition_if_for_while.ipynb         condition_practice.ipynb\r\n",
      "Control_Flow_Statements .ipynb       file sysetm.ipynb\r\n",
      "Data_Structures.ipynb                file.ipynb\r\n",
      "Dictionaries.ipynb                   for loops while loop.ipynb\r\n",
      "Exception handling class 1.ipynb     for_loop.ipynb\r\n",
      "Function continued.ipynb             function_advanced.ipynb\r\n",
      "List.ipynb                           function_exercise.ipynb\r\n",
      "List_Tuple_Dict-Copy1.ipynb          if else , for loop.ipynb\r\n",
      "List_Tuple_Dict.ipynb                if_elif_else.ipynb\r\n",
      "Print_Operation.ipynb                iterable_iterator_generator.ipynb\r\n",
      "Python_Basic.docx                    iterator generator.ipynb\r\n",
      "Set.ipynb                            mydict.py\r\n",
      "String.ipynb                         practice problem python basic.ipynb\r\n",
      "Tuple.ipynb                          test.txt\r\n",
      "Tuples , set , dict .ipynb           while_loop.ipynb\r\n",
      "\u001b[34mUntitled Folder\u001b[m\u001b[m/                     ~$thon_Basic.docx\r\n"
     ]
    }
   ],
   "source": [
    "ls#show all folder in current directory"
   ]
  },
  {
   "cell_type": "code",
   "execution_count": 2,
   "id": "e7675556",
   "metadata": {},
   "outputs": [],
   "source": [
    "f=open('test.txt','w')#open the file\n",
    "f.write('today is wednesday,02-02-2022')#write something\n",
    "f.close()# close the file"
   ]
  },
  {
   "cell_type": "code",
   "execution_count": 22,
   "id": "71ddc043",
   "metadata": {},
   "outputs": [
    {
     "name": "stderr",
     "output_type": "stream",
     "text": [
      "UsageError: Line magic function `%%writefile` not found.\n"
     ]
    }
   ],
   "source": [
    "# write another option; this is open-> write-> close at the same time\n",
    "%%writefile test1.txt\n",
    "\"this is second write bbbb option\""
   ]
  },
  {
   "cell_type": "code",
   "execution_count": 23,
   "id": "a8b57e06",
   "metadata": {},
   "outputs": [
    {
     "name": "stdout",
     "output_type": "stream",
     "text": [
      "Basic_Operation.ipynb                basic_function.ipynb\r\n",
      "Basic_str_list.ipynb                 break_continue_pass.ipynb\r\n",
      "Compression.ipynb                    condition_practice.ipynb\r\n",
      "Condition_if_for_while.ipynb         file sysetm.ipynb\r\n",
      "Control_Flow_Statements .ipynb       file.ipynb\r\n",
      "Data_Structures.ipynb                for loops while loop.ipynb\r\n",
      "Dictionaries.ipynb                   for_loop.ipynb\r\n",
      "Exception handling class 1.ipynb     function_advanced.ipynb\r\n",
      "Function continued.ipynb             function_exercise.ipynb\r\n",
      "List.ipynb                           if else , for loop.ipynb\r\n",
      "List_Tuple_Dict-Copy1.ipynb          if_elif_else.ipynb\r\n",
      "List_Tuple_Dict.ipynb                iterable_iterator_generator.ipynb\r\n",
      "Print_Operation.ipynb                iterator generator.ipynb\r\n",
      "Python_Basic.docx                    mydict.py\r\n",
      "Set.ipynb                            practice problem python basic.ipynb\r\n",
      "String.ipynb                         test.txt\r\n",
      "Tuple.ipynb                          test1.txt\r\n",
      "Tuples , set , dict .ipynb           while_loop.ipynb\r\n",
      "\u001b[34mUntitled Folder\u001b[m\u001b[m/                     ~$thon_Basic.docx\r\n",
      "Untitled.ipynb\r\n"
     ]
    }
   ],
   "source": [
    "ls"
   ]
  },
  {
   "cell_type": "code",
   "execution_count": 27,
   "id": "0e7f06f0",
   "metadata": {},
   "outputs": [],
   "source": [
    "f=open('test.txt')#bydefault this is read"
   ]
  },
  {
   "cell_type": "code",
   "execution_count": 28,
   "id": "39fa5327",
   "metadata": {},
   "outputs": [
    {
     "data": {
      "text/plain": [
       "'today is wednesday,02-02-2022today is wednesday,02-02-2022'"
      ]
     },
     "execution_count": 28,
     "metadata": {},
     "output_type": "execute_result"
    }
   ],
   "source": [
    "f.read()"
   ]
  },
  {
   "cell_type": "code",
   "execution_count": 30,
   "id": "a566ff05",
   "metadata": {},
   "outputs": [
    {
     "ename": "UnsupportedOperation",
     "evalue": "not writable",
     "output_type": "error",
     "traceback": [
      "\u001b[0;31m---------------------------------------------------------------------------\u001b[0m",
      "\u001b[0;31mUnsupportedOperation\u001b[0m                      Traceback (most recent call last)",
      "\u001b[0;32m/var/folders/70/xyz7khq54gx8qklx52wtt6tw0000gn/T/ipykernel_99660/2878744641.py\u001b[0m in \u001b[0;36m<module>\u001b[0;34m\u001b[0m\n\u001b[0;32m----> 1\u001b[0;31m \u001b[0mf\u001b[0m\u001b[0;34m.\u001b[0m\u001b[0mwrite\u001b[0m\u001b[0;34m(\u001b[0m\u001b[0;34m'hdshdjdsjdk djfhdlk'\u001b[0m\u001b[0;34m)\u001b[0m\u001b[0;34m\u001b[0m\u001b[0;34m\u001b[0m\u001b[0m\n\u001b[0m",
      "\u001b[0;31mUnsupportedOperation\u001b[0m: not writable"
     ]
    }
   ],
   "source": [
    "f.write('hdshdjdsjdk djfhdlk')#because file is already open"
   ]
  },
  {
   "cell_type": "code",
   "execution_count": 32,
   "id": "ba002c9b",
   "metadata": {},
   "outputs": [
    {
     "data": {
      "text/plain": [
       "''"
      ]
     },
     "execution_count": 32,
     "metadata": {},
     "output_type": "execute_result"
    }
   ],
   "source": [
    "f.read()# curser position at the end"
   ]
  },
  {
   "cell_type": "code",
   "execution_count": 33,
   "id": "adaceeb6",
   "metadata": {},
   "outputs": [
    {
     "data": {
      "text/plain": [
       "5"
      ]
     },
     "execution_count": 33,
     "metadata": {},
     "output_type": "execute_result"
    }
   ],
   "source": [
    "f.seek(5)#curser position at 5"
   ]
  },
  {
   "cell_type": "code",
   "execution_count": 34,
   "id": "4654f923",
   "metadata": {},
   "outputs": [
    {
     "data": {
      "text/plain": [
       "' is wednesday,02-02-2022today is wednesday,02-02-2022'"
      ]
     },
     "execution_count": 34,
     "metadata": {},
     "output_type": "execute_result"
    }
   ],
   "source": [
    "f.read()#read again from curser position"
   ]
  },
  {
   "cell_type": "code",
   "execution_count": 35,
   "id": "a15f93cc",
   "metadata": {},
   "outputs": [
    {
     "data": {
      "text/plain": [
       "0"
      ]
     },
     "execution_count": 35,
     "metadata": {},
     "output_type": "execute_result"
    }
   ],
   "source": [
    "f.seek(0)#curser position at 0"
   ]
  },
  {
   "cell_type": "code",
   "execution_count": 36,
   "id": "e1b14a8c",
   "metadata": {},
   "outputs": [
    {
     "data": {
      "text/plain": [
       "'today is wednesday,02-02-2022today is wednesday,02-02-2022'"
      ]
     },
     "execution_count": 36,
     "metadata": {},
     "output_type": "execute_result"
    }
   ],
   "source": [
    "f.read()"
   ]
  },
  {
   "cell_type": "code",
   "execution_count": 37,
   "id": "da59aa34",
   "metadata": {},
   "outputs": [
    {
     "data": {
      "text/plain": [
       "58"
      ]
     },
     "execution_count": 37,
     "metadata": {},
     "output_type": "execute_result"
    }
   ],
   "source": [
    "f.tell()#where is the curser position"
   ]
  },
  {
   "cell_type": "code",
   "execution_count": 41,
   "id": "53b67f0a",
   "metadata": {},
   "outputs": [],
   "source": [
    "f=open('test1.txt','r+')#open the new file"
   ]
  },
  {
   "cell_type": "code",
   "execution_count": 42,
   "id": "63e0bac8",
   "metadata": {},
   "outputs": [
    {
     "data": {
      "text/plain": [
       "'this is second write option\\n'"
      ]
     },
     "execution_count": 42,
     "metadata": {},
     "output_type": "execute_result"
    }
   ],
   "source": [
    "f.read()#read always data in whole line"
   ]
  },
  {
   "cell_type": "code",
   "execution_count": 43,
   "id": "79436849",
   "metadata": {},
   "outputs": [
    {
     "data": {
      "text/plain": [
       "''"
      ]
     },
     "execution_count": 43,
     "metadata": {},
     "output_type": "execute_result"
    }
   ],
   "source": [
    "f.readline()#read line by line"
   ]
  },
  {
   "cell_type": "code",
   "execution_count": 44,
   "id": "73901cb7",
   "metadata": {},
   "outputs": [
    {
     "data": {
      "text/plain": [
       "28"
      ]
     },
     "execution_count": 44,
     "metadata": {},
     "output_type": "execute_result"
    }
   ],
   "source": [
    "f.tell()#where is the curser position"
   ]
  },
  {
   "cell_type": "code",
   "execution_count": 45,
   "id": "c11a6793",
   "metadata": {},
   "outputs": [
    {
     "data": {
      "text/plain": [
       "0"
      ]
     },
     "execution_count": 45,
     "metadata": {},
     "output_type": "execute_result"
    }
   ],
   "source": [
    "f.seek(0)#resert at 0 position"
   ]
  },
  {
   "cell_type": "code",
   "execution_count": 46,
   "id": "dfa1f163",
   "metadata": {},
   "outputs": [
    {
     "data": {
      "text/plain": [
       "'this is second write option\\n'"
      ]
     },
     "execution_count": 46,
     "metadata": {},
     "output_type": "execute_result"
    }
   ],
   "source": [
    "f.readline()"
   ]
  },
  {
   "cell_type": "markdown",
   "id": "b83d9587",
   "metadata": {},
   "source": [
    "# Create new file name as google"
   ]
  },
  {
   "cell_type": "code",
   "execution_count": 59,
   "id": "da4431bb",
   "metadata": {},
   "outputs": [],
   "source": [
    "f=open('google.txt','w')"
   ]
  },
  {
   "cell_type": "code",
   "execution_count": 60,
   "id": "f12736b4",
   "metadata": {},
   "outputs": [
    {
     "data": {
      "text/plain": [
       "527"
      ]
     },
     "execution_count": 60,
     "metadata": {},
     "output_type": "execute_result"
    }
   ],
   "source": [
    "f.write(\"\"\"In the Donbass in eastern Ukraine, where the front line runs between occupied and Ukrainian-controlled areas, war has been part of everyday life for years. \n",
    "In the capital, Kiev, however, concerns about a new Russian invasion are prompting questions about the intentions of the Russian and Ukrainian presidents. \n",
    "In Lviv in western Ukraine, on the other hand, people do not believe that a new war is imminent, but if in doubt they would be ready to fight. \n",
    "We spoke to six Ukrainians over the phone about their everyday lives.\n",
    "\"\"\")"
   ]
  },
  {
   "cell_type": "code",
   "execution_count": 61,
   "id": "459da217",
   "metadata": {},
   "outputs": [],
   "source": [
    "f.close()"
   ]
  },
  {
   "cell_type": "code",
   "execution_count": 62,
   "id": "a93802b0",
   "metadata": {},
   "outputs": [],
   "source": [
    "f=open('google.txt')"
   ]
  },
  {
   "cell_type": "code",
   "execution_count": 63,
   "id": "c29e4c02",
   "metadata": {},
   "outputs": [
    {
     "data": {
      "text/plain": [
       "'In the Donbass in eastern Ukraine, where the front line runs between occupied and Ukrainian-controlled areas, war has been part of everyday life for years. \\nIn the capital, Kiev, however, concerns about a new Russian invasion are prompting questions about the intentions of the Russian and Ukrainian presidents. \\nIn Lviv in western Ukraine, on the other hand, people do not believe that a new war is imminent, but if in doubt they would be ready to fight. \\nWe spoke to six Ukrainians over the phone about their everyday lives.\\n'"
      ]
     },
     "execution_count": 63,
     "metadata": {},
     "output_type": "execute_result"
    }
   ],
   "source": [
    "f.read()"
   ]
  },
  {
   "cell_type": "code",
   "execution_count": 64,
   "id": "fe3794a9",
   "metadata": {},
   "outputs": [
    {
     "data": {
      "text/plain": [
       "0"
      ]
     },
     "execution_count": 64,
     "metadata": {},
     "output_type": "execute_result"
    }
   ],
   "source": [
    "f.seek(0)"
   ]
  },
  {
   "cell_type": "code",
   "execution_count": 65,
   "id": "b39fb181",
   "metadata": {},
   "outputs": [
    {
     "data": {
      "text/plain": [
       "'In the Donbass in eastern Ukraine, where the front line runs between occupied and Ukrainian-controlled areas, war has been part of everyday life for years. \\n'"
      ]
     },
     "execution_count": 65,
     "metadata": {},
     "output_type": "execute_result"
    }
   ],
   "source": [
    "f.readline()"
   ]
  },
  {
   "cell_type": "code",
   "execution_count": 66,
   "id": "ac7aa4a5",
   "metadata": {},
   "outputs": [
    {
     "data": {
      "text/plain": [
       "'In the capital, Kiev, however, concerns about a new Russian invasion are prompting questions about the intentions of the Russian and Ukrainian presidents. \\n'"
      ]
     },
     "execution_count": 66,
     "metadata": {},
     "output_type": "execute_result"
    }
   ],
   "source": [
    "f.readline()"
   ]
  },
  {
   "cell_type": "code",
   "execution_count": 67,
   "id": "6b4e27da",
   "metadata": {},
   "outputs": [
    {
     "data": {
      "text/plain": [
       "'In Lviv in western Ukraine, on the other hand, people do not believe that a new war is imminent, but if in doubt they would be ready to fight. \\n'"
      ]
     },
     "execution_count": 67,
     "metadata": {},
     "output_type": "execute_result"
    }
   ],
   "source": [
    "f.readline()"
   ]
  },
  {
   "cell_type": "code",
   "execution_count": 68,
   "id": "bfff2230",
   "metadata": {},
   "outputs": [],
   "source": [
    "f.close()"
   ]
  },
  {
   "cell_type": "code",
   "execution_count": 75,
   "id": "87d4ed1f",
   "metadata": {
    "scrolled": true
   },
   "outputs": [
    {
     "name": "stdout",
     "output_type": "stream",
     "text": [
      "In the Donbass in eastern Ukraine, where the front line runs between occupied and Ukrainian-controlled areas, war has been part of everyday life for years. \n",
      " In the capital, Kiev, however, concerns about a new Russian invasion are prompting questions about the intentions of the Russian and Ukrainian presidents. \n",
      " In Lviv in western Ukraine, on the other hand, people do not believe that a new war is imminent, but if in doubt they would be ready to fight. \n",
      " We spoke to six Ukrainians over the phone about their everyday lives.\n",
      " \n",
      " For seven years I have been driving my minibus to the Donbass once a month, where we distribute aid packages to the needy.\n",
      " We always go to Krasnohorivka, a small town on the front line. I grew up near there and know the area well.\n",
      " \n",
      " For seven years I have been driving my minibus to the Donbass once a month, where we distribute aid packages to the needy.\n",
      " We always go to Krasnohorivka, a small town on the front line. I grew up near there and know the area well.\n",
      " "
     ]
    }
   ],
   "source": [
    "f=open('google.txt','r+')\n",
    "for line in f:\n",
    "    print(line, end=\" \")"
   ]
  },
  {
   "cell_type": "code",
   "execution_count": 73,
   "id": "c2d6217c",
   "metadata": {},
   "outputs": [
    {
     "data": {
      "text/plain": [
       "232"
      ]
     },
     "execution_count": 73,
     "metadata": {},
     "output_type": "execute_result"
    }
   ],
   "source": [
    "f.write(\"\"\"\n",
    "For seven years I have been driving my minibus to the Donbass once a month, where we distribute aid packages to the needy.\n",
    "We always go to Krasnohorivka, a small town on the front line. I grew up near there and know the area well.\n",
    "\"\"\")"
   ]
  },
  {
   "cell_type": "code",
   "execution_count": 74,
   "id": "153e9914",
   "metadata": {},
   "outputs": [
    {
     "data": {
      "text/plain": [
       "''"
      ]
     },
     "execution_count": 74,
     "metadata": {},
     "output_type": "execute_result"
    }
   ],
   "source": [
    "f.readline()"
   ]
  },
  {
   "cell_type": "code",
   "execution_count": 76,
   "id": "ead364df",
   "metadata": {},
   "outputs": [],
   "source": [
    "f.close()"
   ]
  },
  {
   "cell_type": "markdown",
   "id": "3cf3e742",
   "metadata": {},
   "source": [
    "# need to change something in google txt file"
   ]
  },
  {
   "cell_type": "code",
   "execution_count": 77,
   "id": "01382db3",
   "metadata": {},
   "outputs": [],
   "source": [
    "f= open('google.txt','r+')"
   ]
  },
  {
   "cell_type": "code",
   "execution_count": 78,
   "id": "427ee7c8",
   "metadata": {},
   "outputs": [
    {
     "data": {
      "text/plain": [
       "245"
      ]
     },
     "execution_count": 78,
     "metadata": {},
     "output_type": "execute_result"
    }
   ],
   "source": [
    "f.write(\"\"\"\n",
    "Many people fled this small town during the heavy fighting of 2014 or 2015, but many have since returned. Not because they would love to live in a war zone. Many have no other perspective, no money and no strength to start over somewhere else.\n",
    "\"\"\")"
   ]
  },
  {
   "cell_type": "code",
   "execution_count": 79,
   "id": "0008077c",
   "metadata": {},
   "outputs": [
    {
     "data": {
      "text/plain": [
       "'ions about the intentions of the Russian and Ukrainian presidents. \\nIn Lviv in western Ukraine, on the other hand, people do not believe that a new war is imminent, but if in doubt they would be ready to fight. \\nWe spoke to six Ukrainians over the phone about their everyday lives.\\n\\nFor seven years I have been driving my minibus to the Donbass once a month, where we distribute aid packages to the needy.\\nWe always go to Krasnohorivka, a small town on the front line. I grew up near there and know the area well.\\n\\nFor seven years I have been driving my minibus to the Donbass once a month, where we distribute aid packages to the needy.\\nWe always go to Krasnohorivka, a small town on the front line. I grew up near there and know the area well.\\n'"
      ]
     },
     "execution_count": 79,
     "metadata": {},
     "output_type": "execute_result"
    }
   ],
   "source": [
    "f.read()"
   ]
  },
  {
   "cell_type": "code",
   "execution_count": 80,
   "id": "acefd5c4",
   "metadata": {},
   "outputs": [
    {
     "data": {
      "text/plain": [
       "0"
      ]
     },
     "execution_count": 80,
     "metadata": {},
     "output_type": "execute_result"
    }
   ],
   "source": [
    "f.seek(0)"
   ]
  },
  {
   "cell_type": "code",
   "execution_count": 81,
   "id": "0c20d350",
   "metadata": {},
   "outputs": [
    {
     "data": {
      "text/plain": [
       "0"
      ]
     },
     "execution_count": 81,
     "metadata": {},
     "output_type": "execute_result"
    }
   ],
   "source": [
    "f.tell()"
   ]
  },
  {
   "cell_type": "code",
   "execution_count": 84,
   "id": "abd642f6",
   "metadata": {},
   "outputs": [
    {
     "data": {
      "text/plain": [
       "'ions about the intentions of the Russian and Ukrainian presidents. \\n'"
      ]
     },
     "execution_count": 84,
     "metadata": {},
     "output_type": "execute_result"
    }
   ],
   "source": [
    "f.readline()"
   ]
  },
  {
   "cell_type": "code",
   "execution_count": 85,
   "id": "40d39ec3",
   "metadata": {},
   "outputs": [],
   "source": [
    "f.close()"
   ]
  },
  {
   "cell_type": "code",
   "execution_count": 86,
   "id": "0dcceb95",
   "metadata": {},
   "outputs": [],
   "source": [
    "f=open('google.txt','r+')"
   ]
  },
  {
   "cell_type": "code",
   "execution_count": 87,
   "id": "c8ea4896",
   "metadata": {},
   "outputs": [
    {
     "data": {
      "text/plain": [
       "3017"
      ]
     },
     "execution_count": 87,
     "metadata": {},
     "output_type": "execute_result"
    }
   ],
   "source": [
    "f.write(\"\"\"\n",
    "Google LLC is an American multinational technology company that specializes in Internet-related services and products, which include online advertising technologies, a search engine, cloud computing, software, and hardware. It is considered one of the Big Five companies in the American information technology industry, along with Amazon, Apple, Meta (Facebook) and Microsoft.[10]\n",
    " \n",
    " Google was founded on September 4, 1998, by Larry Page and Sergey Brin while they were Ph.D. students at Stanford University in California. Together they own about 14% of its publicly-listed shares and control 56% of the stockholder voting power through super-voting stock. The company went public via an initial public offering (IPO) in 2004. In 2015, Google was reorganized as a wholly-owned subsidiary of Alphabet Inc.. Google is Alphabet's largest subsidiary and is a holding company for Alphabet's Internet properties and interests. Sundar Pichai was appointed CEO of Google on October 24, 2015, replacing Larry Page, who became the CEO of Alphabet. On December 3, 2019, Pichai also became the CEO of Alphabet.[11]\n",
    " \n",
    " In 2021, the Alphabet Workers Union was founded, mainly composed of Google employees.[12]\n",
    " \n",
    " The company's rapid growth since incorporation has included products, acquisitions, and partnerships beyond Google's core search engine, (Google Search). It offers services designed for work and productivity (Google Docs, Google Sheets, and Google Slides), email (Gmail), scheduling and time management (Google Calendar), cloud storage (Google Drive), instant messaging and video chat (Google Duo, Google Chat, and Google Meet), language translation (Google Translate), mapping and navigation (Google Maps, Waze, Google Earth, and Street View), podcast hosting (Google Podcasts), video sharing (YouTube), blog publishing (Blogger), note-taking (Google Keep and Jamboard), and photo organizing and editing (Google Photos). The company leads the development of the Android mobile operating system, the Google Chrome web browser, and Chrome OS (a lightweight, proprietary operating system based on the free and open-source Chromium OS operating system). Google has moved increasingly into hardware; from 2010 to 2015, it partnered with major electronics manufacturers in the production of its Google Nexus devices, and it released multiple hardware products in 2016, including the Google Pixel line of smartphones, Google Home smart speaker, Google Wifi mesh wireless router. Google has also experimented with becoming an Internet carrier (Google Fiber and Google Fi).\n",
    " \n",
    " Google.com is the most visited website worldwide. Several other Google-owned websites also are on the list of most popular websites, including YouTube and Blogger.[13] On the list of most valuable brands, Google is ranked second by Forbes[14] and fourth by Interbrand.[15] It has received significant criticism involving issues such as privacy concerns, tax avoidance, censorship, search neutrality, antitrust and abuse of its monopoly position. \n",
    "\"\"\")"
   ]
  },
  {
   "cell_type": "code",
   "execution_count": 88,
   "id": "dfafe2cc",
   "metadata": {},
   "outputs": [],
   "source": [
    "f.close()"
   ]
  },
  {
   "cell_type": "markdown",
   "id": "618475d9",
   "metadata": {},
   "source": [
    "# Try to insert name whereever beside the google name"
   ]
  },
  {
   "cell_type": "code",
   "execution_count": 130,
   "id": "20f3812e",
   "metadata": {},
   "outputs": [],
   "source": [
    "f=open('google.txt','r+')"
   ]
  },
  {
   "cell_type": "code",
   "execution_count": 131,
   "id": "0722ce98",
   "metadata": {},
   "outputs": [],
   "source": [
    "#len(f.readlines())"
   ]
  },
  {
   "cell_type": "code",
   "execution_count": 132,
   "id": "9c1ef62f",
   "metadata": {},
   "outputs": [],
   "source": [
    "#f.readlines()#show represent as list"
   ]
  },
  {
   "cell_type": "code",
   "execution_count": 133,
   "id": "6c58e43d",
   "metadata": {},
   "outputs": [],
   "source": [
    "l=f.readlines()"
   ]
  },
  {
   "cell_type": "code",
   "execution_count": 134,
   "id": "7fff428f",
   "metadata": {},
   "outputs": [
    {
     "data": {
      "text/plain": [
       "['\\n',\n",
       " 'Google LLC is an American multinational technology company that specializes in Internet-related services and products, which include online advertising technologies, a search engine, cloud computing, software, and hardware. It is considered one of the Big Five companies in the American information technology industry, along with Amazon, Apple, Meta (Facebook) and Microsoft.[10]\\n',\n",
       " ' \\n',\n",
       " \" Google was founded on September 4, 1998, by Larry Page and Sergey Brin while they were Ph.D. students at Stanford University in California. Together they own about 14% of its publicly-listed shares and control 56% of the stockholder voting power through super-voting stock. The company went public via an initial public offering (IPO) in 2004. In 2015, Google was reorganized as a wholly-owned subsidiary of Alphabet Inc.. Google is Alphabet's largest subsidiary and is a holding company for Alphabet's Internet properties and interests. Sundar Pichai was appointed CEO of Google on October 24, 2015, replacing Larry Page, who became the CEO of Alphabet. On December 3, 2019, Pichai also became the CEO of Alphabet.[11]\\n\",\n",
       " ' \\n',\n",
       " ' In 2021, the Alphabet Workers Union was founded, mainly composed of Google employees.[12]\\n',\n",
       " ' \\n',\n",
       " \" The company's rapid growth since incorporation has included products, acquisitions, and partnerships beyond Google's core search engine, (Google Search). It offers services designed for work and productivity (Google Docs, Google Sheets, and Google Slides), email (Gmail), scheduling and time management (Google Calendar), cloud storage (Google Drive), instant messaging and video chat (Google Duo, Google Chat, and Google Meet), language translation (Google Translate), mapping and navigation (Google Maps, Waze, Google Earth, and Street View), podcast hosting (Google Podcasts), video sharing (YouTube), blog publishing (Blogger), note-taking (Google Keep and Jamboard), and photo organizing and editing (Google Photos). The company leads the development of the Android mobile operating system, the Google Chrome web browser, and Chrome OS (a lightweight, proprietary operating system based on the free and open-source Chromium OS operating system). Google has moved increasingly into hardware; from 2010 to 2015, it partnered with major electronics manufacturers in the production of its Google Nexus devices, and it released multiple hardware products in 2016, including the Google Pixel line of smartphones, Google Home smart speaker, Google Wifi mesh wireless router. Google has also experimented with becoming an Internet carrier (Google Fiber and Google Fi).\\n\",\n",
       " ' \\n',\n",
       " ' Google.com is the most visited website worldwide. Several other Google-owned websites also are on the list of most popular websites, including YouTube and Blogger.[13] On the list of most valuable brands, Google is ranked second by Forbes[14] and fourth by Interbrand.[15] It has received significant criticism involving issues such as privacy concerns, tax avoidance, censorship, search neutrality, antitrust and abuse of its monopoly position. \\n']"
      ]
     },
     "execution_count": 134,
     "metadata": {},
     "output_type": "execute_result"
    }
   ],
   "source": [
    "l"
   ]
  },
  {
   "cell_type": "code",
   "execution_count": 138,
   "id": "8f433cb1",
   "metadata": {},
   "outputs": [
    {
     "data": {
      "text/plain": [
       "\" Google was founded on September 4, 1998, by Larry Page and Sergey Brin while they were Ph.D. students at Stanford University in California. Together they own about 14% of its publicly-listed shares and control 56% of the stockholder voting power through super-voting stock. The company went public via an initial public offering (IPO) in 2004. In 2015, Google was reorganized as a wholly-owned subsidiary of Alphabet Inc.. Google is Alphabet's largest subsidiary and is a holding company for Alphabet's Internet properties and interests. Sundar Pichai was appointed CEO of Google on October 24, 2015, replacing Larry Page, who became the CEO of Alphabet. On December 3, 2019, Pichai also became the CEO of Alphabet.[11]\\n\""
      ]
     },
     "execution_count": 138,
     "metadata": {},
     "output_type": "execute_result"
    }
   ],
   "source": [
    "l[3]"
   ]
  },
  {
   "cell_type": "code",
   "execution_count": 140,
   "id": "aa6f52bb",
   "metadata": {},
   "outputs": [
    {
     "data": {
      "text/plain": [
       "['Google',\n",
       " 'LLC',\n",
       " 'is',\n",
       " 'an',\n",
       " 'American',\n",
       " 'multinational',\n",
       " 'technology',\n",
       " 'company',\n",
       " 'that',\n",
       " 'specializes',\n",
       " 'in',\n",
       " 'Internet-related',\n",
       " 'services',\n",
       " 'and',\n",
       " 'products,',\n",
       " 'which',\n",
       " 'include',\n",
       " 'online',\n",
       " 'advertising',\n",
       " 'technologies,',\n",
       " 'a',\n",
       " 'search',\n",
       " 'engine,',\n",
       " 'cloud',\n",
       " 'computing,',\n",
       " 'software,',\n",
       " 'and',\n",
       " 'hardware.',\n",
       " 'It',\n",
       " 'is',\n",
       " 'considered',\n",
       " 'one',\n",
       " 'of',\n",
       " 'the',\n",
       " 'Big',\n",
       " 'Five',\n",
       " 'companies',\n",
       " 'in',\n",
       " 'the',\n",
       " 'American',\n",
       " 'information',\n",
       " 'technology',\n",
       " 'industry,',\n",
       " 'along',\n",
       " 'with',\n",
       " 'Amazon,',\n",
       " 'Apple,',\n",
       " 'Meta',\n",
       " '(Facebook)',\n",
       " 'and',\n",
       " 'Microsoft.[10]']"
      ]
     },
     "execution_count": 140,
     "metadata": {},
     "output_type": "execute_result"
    }
   ],
   "source": [
    "l[1].split()"
   ]
  },
  {
   "cell_type": "code",
   "execution_count": 143,
   "id": "c5ff999a",
   "metadata": {},
   "outputs": [
    {
     "data": {
      "text/plain": [
       "['G',\n",
       " 'L',\n",
       " 'i',\n",
       " 'a',\n",
       " 'A',\n",
       " 'm',\n",
       " 't',\n",
       " 'c',\n",
       " 't',\n",
       " 's',\n",
       " 'i',\n",
       " 'I',\n",
       " 's',\n",
       " 'a',\n",
       " 'p',\n",
       " 'w',\n",
       " 'i',\n",
       " 'o',\n",
       " 'a',\n",
       " 't',\n",
       " 'a',\n",
       " 's',\n",
       " 'e',\n",
       " 'c',\n",
       " 'c',\n",
       " 's',\n",
       " 'a',\n",
       " 'h',\n",
       " 'I',\n",
       " 'i',\n",
       " 'c',\n",
       " 'o',\n",
       " 'o',\n",
       " 't',\n",
       " 'B',\n",
       " 'F',\n",
       " 'c',\n",
       " 'i',\n",
       " 't',\n",
       " 'A',\n",
       " 'i',\n",
       " 't',\n",
       " 'i',\n",
       " 'a',\n",
       " 'w',\n",
       " 'A',\n",
       " 'A',\n",
       " 'M',\n",
       " '(',\n",
       " 'a',\n",
       " 'M']"
      ]
     },
     "execution_count": 143,
     "metadata": {},
     "output_type": "execute_result"
    }
   ],
   "source": [
    "#print the first letter of each word\n",
    "l1=[]\n",
    "for i in l[1].split():\n",
    "    l1.append(i[0])\n",
    "l1"
   ]
  },
  {
   "cell_type": "code",
   "execution_count": 148,
   "id": "3a53306e",
   "metadata": {},
   "outputs": [
    {
     "data": {
      "text/plain": [
       "['in', 'in']"
      ]
     },
     "execution_count": 148,
     "metadata": {},
     "output_type": "execute_result"
    }
   ],
   "source": [
    "l2=[]\n",
    "a=l[1].split()\n",
    "for i in a:\n",
    "    if i=='in':\n",
    "        l2.append(i)\n",
    "l2"
   ]
  },
  {
   "cell_type": "code",
   "execution_count": null,
   "id": "a5655832",
   "metadata": {},
   "outputs": [],
   "source": [
    "# r\tOnly for reading. The pointer is located at the start of file and it’s a default mode.\n",
    "# rb\tOnly for reading in a binary format. The pointer is located at the start of file and it’s a default mode.\n",
    "# r+\tTo opens a file for the both writing and reading. The pointer is located at the start of file.\n",
    "# rb+\tFor the both writing and reading operation in binary format. The pointer is located at the start of file.\n",
    "# w\tOnly for writing. Check for existing file, if its present overwrites in the exists file. If there is no any existing file then, makes a novel file for the writing.\n",
    "# wb\tOnly for writing in a binary format. Check for existing file, if its present overwrites in the exists file. If there is no any existing file then, makes a novel file for the writing.\n",
    "# w+\tFor the both writing and reading operation. Check for existing file, if its present overwrites in the exists file. If there is no any existing file then, makes a novel file for the writing and reading.\n",
    "# wb+\tFor the both writing and reading operation in binary format. Check for existing file, if its present overwrites in the exists file. If there is no any existing file then, makes a novel file for the writing and reading.\n",
    "# a\topens the file for appending; any data written to the file is automatically added to the end. Check for existing file, if its present pointer is set at last of existing file for appending operation. If there is no any existing file then, makes a novel file for the writing."
   ]
  },
  {
   "cell_type": "markdown",
   "id": "ccc6363d",
   "metadata": {},
   "source": [
    "# Exercise"
   ]
  },
  {
   "cell_type": "code",
   "execution_count": 168,
   "id": "ec9a7b08",
   "metadata": {},
   "outputs": [
    {
     "data": {
      "text/plain": [
       "'test1.txt'"
      ]
     },
     "execution_count": 168,
     "metadata": {},
     "output_type": "execute_result"
    }
   ],
   "source": [
    "f=open('test1.txt','r+')\n",
    "f.name"
   ]
  },
  {
   "cell_type": "code",
   "execution_count": 169,
   "id": "fa9a2548",
   "metadata": {},
   "outputs": [],
   "source": [
    "l=['this is line one','this is line 2','this is line 3','this is line 4']"
   ]
  },
  {
   "cell_type": "code",
   "execution_count": 170,
   "id": "9b825698",
   "metadata": {},
   "outputs": [
    {
     "data": {
      "text/plain": [
       "35"
      ]
     },
     "execution_count": 170,
     "metadata": {},
     "output_type": "execute_result"
    }
   ],
   "source": [
    "f.write('i can write lines at current cursor')"
   ]
  },
  {
   "cell_type": "code",
   "execution_count": 171,
   "id": "4bc3e7b9",
   "metadata": {},
   "outputs": [],
   "source": [
    "f.writelines(l)"
   ]
  },
  {
   "cell_type": "code",
   "execution_count": 172,
   "id": "a76b4a60",
   "metadata": {},
   "outputs": [],
   "source": [
    "f.close()"
   ]
  },
  {
   "cell_type": "code",
   "execution_count": 174,
   "id": "c3b70b10",
   "metadata": {},
   "outputs": [],
   "source": [
    "#f.flush()"
   ]
  },
  {
   "cell_type": "code",
   "execution_count": 175,
   "id": "c1fb8b6e",
   "metadata": {},
   "outputs": [],
   "source": [
    "import os"
   ]
  },
  {
   "cell_type": "code",
   "execution_count": 176,
   "id": "9a12a224",
   "metadata": {},
   "outputs": [],
   "source": [
    "os.remove(\"test1.txt\")#remove the file"
   ]
  },
  {
   "cell_type": "code",
   "execution_count": 177,
   "id": "60fecd7e",
   "metadata": {},
   "outputs": [
    {
     "name": "stdout",
     "output_type": "stream",
     "text": [
      "Basic_Operation.ipynb                basic_function.ipynb\r\n",
      "Basic_str_list.ipynb                 break_continue_pass.ipynb\r\n",
      "Compression.ipynb                    condition_practice.ipynb\r\n",
      "Condition_if_for_while.ipynb         file sysetm.ipynb\r\n",
      "Control_Flow_Statements .ipynb       file.ipynb\r\n",
      "Data_Structures.ipynb                for loops while loop.ipynb\r\n",
      "Dictionaries.ipynb                   for_loop.ipynb\r\n",
      "Exception handling class 1.ipynb     function_advanced.ipynb\r\n",
      "Function continued.ipynb             function_exercise.ipynb\r\n",
      "List.ipynb                           google.txt\r\n",
      "List_Tuple_Dict-Copy1.ipynb          if else , for loop.ipynb\r\n",
      "List_Tuple_Dict.ipynb                if_elif_else.ipynb\r\n",
      "Print_Operation.ipynb                iterable_iterator_generator.ipynb\r\n",
      "Python_Basic.docx                    iterator generator.ipynb\r\n",
      "Set.ipynb                            mydict.py\r\n",
      "String.ipynb                         practice problem python basic.ipynb\r\n",
      "Tuple.ipynb                          test.txt\r\n",
      "Tuples , set , dict .ipynb           while_loop.ipynb\r\n",
      "\u001b[34mUntitled Folder\u001b[m\u001b[m/                     ~$thon_Basic.docx\r\n",
      "Untitled.ipynb\r\n"
     ]
    }
   ],
   "source": [
    "ls"
   ]
  },
  {
   "cell_type": "code",
   "execution_count": 178,
   "id": "a01c01d9",
   "metadata": {},
   "outputs": [
    {
     "data": {
      "text/plain": [
       "'/Users/mdsanowarhossain/Documents/python/Python_Basic'"
      ]
     },
     "execution_count": 178,
     "metadata": {},
     "output_type": "execute_result"
    }
   ],
   "source": [
    "os.getcwd()#current working directory"
   ]
  },
  {
   "cell_type": "code",
   "execution_count": 193,
   "id": "080d53aa",
   "metadata": {},
   "outputs": [],
   "source": [
    "# Folder Path\n",
    "# path = \"Enter Folder Path\" \n",
    "# # Change the directory\n",
    "# os.chdir(path)"
   ]
  },
  {
   "cell_type": "code",
   "execution_count": 189,
   "id": "a1705377",
   "metadata": {},
   "outputs": [],
   "source": [
    "l=os.listdir()"
   ]
  },
  {
   "cell_type": "code",
   "execution_count": 191,
   "id": "f1d76912",
   "metadata": {},
   "outputs": [
    {
     "name": "stdout",
     "output_type": "stream",
     "text": [
      "google.txt\n",
      "test.txt\n"
     ]
    }
   ],
   "source": [
    "#find the txt file\n",
    "for i in os.listdir():\n",
    "    if i.endswith('.txt'):\n",
    "        print(i)\n"
   ]
  }
 ],
 "metadata": {
  "kernelspec": {
   "display_name": "Python 3 (ipykernel)",
   "language": "python",
   "name": "python3"
  },
  "language_info": {
   "codemirror_mode": {
    "name": "ipython",
    "version": 3
   },
   "file_extension": ".py",
   "mimetype": "text/x-python",
   "name": "python",
   "nbconvert_exporter": "python",
   "pygments_lexer": "ipython3",
   "version": "3.9.7"
  }
 },
 "nbformat": 4,
 "nbformat_minor": 5
}
