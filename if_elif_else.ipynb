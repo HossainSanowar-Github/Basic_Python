{
 "cells": [
  {
   "cell_type": "markdown",
   "metadata": {},
   "source": [
    "# Condition\n",
    "* if condition\n",
    "* elif condition\n",
    "* else condition"
   ]
  },
  {
   "cell_type": "code",
   "execution_count": 1,
   "metadata": {},
   "outputs": [],
   "source": [
    "a = 10 "
   ]
  },
  {
   "cell_type": "code",
   "execution_count": 2,
   "metadata": {},
   "outputs": [],
   "source": [
    "if a < 15:\n",
    "    pass\n",
    "    "
   ]
  },
  {
   "cell_type": "code",
   "execution_count": 3,
   "metadata": {},
   "outputs": [
    {
     "data": {
      "text/plain": [
       "True"
      ]
     },
     "execution_count": 3,
     "metadata": {},
     "output_type": "execute_result"
    }
   ],
   "source": [
    "a < 15"
   ]
  },
  {
   "cell_type": "code",
   "execution_count": 4,
   "metadata": {},
   "outputs": [
    {
     "name": "stdout",
     "output_type": "stream",
     "text": [
      "my name is sanowar\n"
     ]
    }
   ],
   "source": [
    "if a < 15 :\n",
    "    print(\"my name is sanowar\")"
   ]
  },
  {
   "cell_type": "code",
   "execution_count": 5,
   "metadata": {},
   "outputs": [],
   "source": [
    "if 24 < 15 :\n",
    "    print(\"my name is sanowar\")"
   ]
  },
  {
   "cell_type": "code",
   "execution_count": 6,
   "metadata": {},
   "outputs": [
    {
     "data": {
      "text/plain": [
       "False"
      ]
     },
     "execution_count": 6,
     "metadata": {},
     "output_type": "execute_result"
    }
   ],
   "source": [
    "24 < 15"
   ]
  },
  {
   "cell_type": "code",
   "execution_count": 7,
   "metadata": {},
   "outputs": [
    {
     "name": "stdout",
     "output_type": "stream",
     "text": [
      " 10 is lesser then 3 \n"
     ]
    }
   ],
   "source": [
    "if 5<10 :\n",
    "    print(\" 10 is lesser then 3 \")\n",
    "else :\n",
    "    print(\"if statemnt is wrong \")\n",
    "\n",
    "    "
   ]
  },
  {
   "cell_type": "code",
   "execution_count": 8,
   "metadata": {},
   "outputs": [
    {
     "name": "stdout",
     "output_type": "stream",
     "text": [
      "45\n",
      "i will be able to buy phone\n"
     ]
    }
   ],
   "source": [
    "income = int(input())\n",
    "if income < 50:\n",
    "    print(\"i will be able to buy phone\")\n",
    "elif income < 70 :\n",
    "    print(\"i will be able to buy car \")\n",
    "elif  income < 90 :\n",
    "    print(\"i will be able to rent a house \")\n",
    "else :\n",
    "    print(\"i wont be able to buy anything\")"
   ]
  },
  {
   "cell_type": "code",
   "execution_count": 9,
   "metadata": {},
   "outputs": [
    {
     "name": "stdout",
     "output_type": "stream",
     "text": [
      "45\n",
      "dicount will be  2.25\n"
     ]
    }
   ],
   "source": [
    "Total_price = int(input())\n",
    "if Total_price  > 20000 :\n",
    "    discount = Total_price * .20\n",
    "    print(\"Discount will be \" , discount)\n",
    "elif Total_price <= 7000 :\n",
    "    discount = Total_price *.05\n",
    "    print(\"dicount will be \" , discount)\n",
    "else :\n",
    "    print( \"wont be able to give any discount \")"
   ]
  },
  {
   "cell_type": "code",
   "execution_count": 10,
   "metadata": {},
   "outputs": [
    {
     "name": "stdout",
     "output_type": "stream",
     "text": [
      "45\n"
     ]
    }
   ],
   "source": [
    "Total_price = int(input())\n",
    "\n",
    "if Total_price > 20000:\n",
    "    dicount = Total_price * .20\n",
    "    print (\"Discount is\", discount)\n",
    "elif Total_price > 7000:\n",
    "    dicount = Total_price * .05\n",
    "    print (\"No discount\")\n"
   ]
  },
  {
   "cell_type": "code",
   "execution_count": 11,
   "metadata": {},
   "outputs": [
    {
     "name": "stdout",
     "output_type": "stream",
     "text": [
      "Input coursework1 name sanowar\n",
      "input score_theory1 34\n",
      "input score_practical1 56\n",
      "Input coursework2 name english\n",
      "input score_theory2 45\n",
      "input score_practical2 56\n",
      "coursework not recognized\n"
     ]
    }
   ],
   "source": [
    "coursework1 = input(\"Input coursework1 name \")\n",
    "score_theory1 = int(input(\"input score_theory1 \"))\n",
    "score_practical1 = int(input(\"input score_practical1 \"))\n",
    "coursework2 = input(\"Input coursework2 name \")\n",
    "score_theory2 = int(input(\"input score_theory2 \"))\n",
    "score_practical2 = int(input(\"input score_practical2 \"))\n",
    "if(coursework1 == \"English\" or coursework1 == \"english\"):\n",
    "    if(score_theory1 >70):\n",
    "        print(\"Invalid input\")\n",
    "    elif(score_practical2>70):\n",
    "        print(\"Invalid input\")\n",
    "    else:\n",
    "        print(\"Sum of theory and practical in english \",score_theory1+score_practical1)\n",
    "if(coursework2 == \"Science\" or coursework2 == \"science\"):\n",
    "    if(score_theory2 >70):\n",
    "        print(\"Invalid input\")\n",
    "    elif(score_practical2>70):\n",
    "        print(\"Invalid input\")\n",
    "    else:\n",
    "        print(\"Sum of theory and practical in Science\",score_theory2+score_practical2)\n",
    "else:\n",
    "    print(\"coursework not recognized\")\n"
   ]
  },
  {
   "cell_type": "code",
   "execution_count": 12,
   "metadata": {},
   "outputs": [
    {
     "name": "stdout",
     "output_type": "stream",
     "text": [
      "sanowar5\n",
      "you will be able to get a discount of 5 % \n",
      "you will be able to get one neuron with this amount  6726.0\n"
     ]
    }
   ],
   "source": [
    "coup = input().lower()\n",
    "if coup == \"sanowar5\":\n",
    "    print(\"you will be able to get a discount of 5 % \")\n",
    "    paid_amount = 7080 - 7080*.05\n",
    "    print(\"you will be able to get one neuron with this amount \" , paid_amount )\n",
    "else :\n",
    "    print(\"kindly use a valid coupoun code \")"
   ]
  },
  {
   "cell_type": "code",
   "execution_count": 13,
   "metadata": {},
   "outputs": [
    {
     "data": {
      "text/plain": [
       "True"
      ]
     },
     "execution_count": 13,
     "metadata": {},
     "output_type": "execute_result"
    }
   ],
   "source": [
    "\"sanowar\" == \"sanowar\""
   ]
  },
  {
   "cell_type": "code",
   "execution_count": 14,
   "metadata": {},
   "outputs": [
    {
     "name": "stdout",
     "output_type": "stream",
     "text": [
      "4\n",
      "it will be difficult \n"
     ]
    }
   ],
   "source": [
    "study_hour = int(input())\n",
    "if study_hour < 1:\n",
    "    print(\"it may take  8- 9 month of time to make a transitino \")\n",
    "elif study_hour < 4 and  study_hour > 1:\n",
    "    print(\"it may take 6 month for transition\")\n",
    "elif study_hour > 10 :\n",
    "    print(\" it will take 3 month of time for transition \")\n",
    "else :\n",
    "    print(\"it will be difficult \")"
   ]
  },
  {
   "cell_type": "code",
   "execution_count": 15,
   "metadata": {},
   "outputs": [
    {
     "name": "stdout",
     "output_type": "stream",
     "text": [
      "2\n",
      "succeed\n"
     ]
    }
   ],
   "source": [
    "study = float(input())\n",
    "if study <1 and  study >0.5:\n",
    "    print(\"you may succeed\")\n",
    "elif   study <6 and  study >1:\n",
    "        print(\"succeed\")\n",
    "else :\n",
    "    print(\"fail\")\n"
   ]
  },
  {
   "cell_type": "code",
   "execution_count": 16,
   "metadata": {},
   "outputs": [
    {
     "name": "stdout",
     "output_type": "stream",
     "text": [
      "valid\n"
     ]
    }
   ],
   "source": [
    "a = 9 \n",
    "if a == 9 : \n",
    "    print(\"valid\")"
   ]
  },
  {
   "cell_type": "code",
   "execution_count": 17,
   "metadata": {},
   "outputs": [
    {
     "name": "stdout",
     "output_type": "stream",
     "text": [
      "enter a string to start DSA\n",
      "enter a course name DSA\n",
      "enter a service name oneneuron\n",
      "kindly connect with our team \n"
     ]
    }
   ],
   "source": [
    "s = input(\"enter a string to start \")\n",
    "course = input(\"enter a course name \")\n",
    "service = input(\"enter a service name \")\n",
    "if s == \"oneneuron\":\n",
    "    if course == \"DSA\":\n",
    "        print(\"yes its available under one neruon and in multiple mode for job prepratoin and core concept \")\n",
    "    elif course == \"Blockchain\":\n",
    "        print(\"this is not aviable as of now , kindly raise your demand and we will fulfil in 60 days \")\n",
    "    elif course == \"FSDS\":\n",
    "        print(\"yes its availble , you i can start learning \")\n",
    "    else :\n",
    "        print(\"this course is not availble kindly raise your demand \")\n",
    "elif s  == \"oneneuronservice\":\n",
    "    if service == \"courserequest\":\n",
    "        print(\"*NOTE: Dear Learner, you can raise demand related to any new course, and we will fulfil your need in the next 60 days.\")\n",
    "    elif service == \"module\" :\n",
    "        print(\"*NOTE: Dear Learner, you can raise demand related to any new course module, and we will fulfil your need in the next 30 days.\")\n",
    "    elif service == \"doubt\":\n",
    "        print(\"*NOTE: Dear Learner, you can raise demand related to any doubt clearing, and we will fulfil your need in the next 24 hours.\")\n",
    "    elif service == \"workwithus\":\n",
    "        print(\"*NOTE: Dear Learner, you can raise the demand to work with our team; our HR will evaluate and get back to you in 24 hours.\")\n",
    "    else :\n",
    "        print(\"kindly provide us your feedback and we will fulfil\")\n",
    "else :\n",
    "    print(\"kindly connect with our team \")"
   ]
  },
  {
   "cell_type": "code",
   "execution_count": null,
   "metadata": {},
   "outputs": [],
   "source": [
    "s = input(\"enter a stringnto start\")\n",
    "course = input(\"eneter a course name\")\n",
    "service = input(\"enetr a service name\")\n",
    "if s ==\"oneneuron\":\n",
    "    if course == \"DSA\":\n",
    "        ptint(\"yes it available under one neuron i multiple code \")\n",
    "    elif course==\"blockchain\":\n",
    "        print(\"raise ur demand\")\n",
    "    elif course==\"FSDS\":\n",
    "        print(\"yes it is available\")\n",
    "    else :\n",
    "        print(\"not vailable\")\n",
    "elif s ==\"oneneuronservice\":\n",
    "    if service==\"courserequest\":\n",
    "        print(\"raise demand for new course\")\n",
    "    elif service==\"modulr\":\n",
    "        print(\"raise demand for module\")\n",
    "    elif service==\"doubt\":\n",
    "        print(\"note doubt clearing\") \n",
    "    else:\n",
    "        print(\"feedback\")\n"
   ]
  },
  {
   "cell_type": "code",
   "execution_count": null,
   "metadata": {},
   "outputs": [],
   "source": [
    "s = input(\"enter a string to start\")\n",
    "course=input(\"enter a course name\")\n",
    "service= input(\"enter service name\")\n",
    "if s == \"oneneuron\":\n",
    "    if course == \"DSA\":\n",
    "        print(\"yes it is available under oneneron and in multiple mode for job preperation and core concept\")\n",
    "    elif course==\"blockchain\":\n",
    "        print(\"this is not available as of now, kindly raise your demand\")\n",
    "    elif course == \"FSDS\":\n",
    "        print(\"yes it is available, you can start learning\")\n",
    "    else:\n",
    "        print(\"this course is not available\")\n",
    "elif s == \"oneneuronservices\":\n",
    "        if service == \"courserequest\":\n",
    "            print(\"abcd\")\n",
    "        elif service == \"module\":\n",
    "            print(\"123654\")\n",
    "        elif service ==\"work with us\":\n",
    "                print(\"tyru\")\n",
    "        else:\n",
    "            print(\"hyst\")\n",
    "else:\n",
    "     print(\"ytr\")"
   ]
  },
  {
   "cell_type": "code",
   "execution_count": null,
   "metadata": {},
   "outputs": [],
   "source": [
    "s = input('enter a string to start : ')\n",
    "\n",
    "if s == 'oneneuron':\n",
    "    course = input('enter a course name : ')\n",
    "    if course == 'DSA':\n",
    "        print('yes it is availbale under oneneuron')\n",
    "    elif course == 'Blockchain':\n",
    "        print('this is not availble at the moment kindly raise a request.')\n",
    "    else:\n",
    "        print('kindly raise  your demand')\n",
    "elif s == 'oneneuronservice':\n",
    "    service = input('what kind of service you want : ')\n",
    "    if service == 'servicerequest':\n",
    "        print('this is not availble at the moment kindly raise a request.')\n",
    "    elif service == 'module':\n",
    "        print('this is not availble at the moment kindly raise a request.')\n",
    "    else :\n",
    "        print('kindly provide us your feedback')\n",
    "else:\n",
    "    print('kindly contact our team')\n"
   ]
  }
 ],
 "metadata": {
  "kernelspec": {
   "display_name": "Python 3 (ipykernel)",
   "language": "python",
   "name": "python3"
  },
  "language_info": {
   "codemirror_mode": {
    "name": "ipython",
    "version": 3
   },
   "file_extension": ".py",
   "mimetype": "text/x-python",
   "name": "python",
   "nbconvert_exporter": "python",
   "pygments_lexer": "ipython3",
   "version": "3.9.7"
  }
 },
 "nbformat": 4,
 "nbformat_minor": 4
}
